{
 "cells": [
  {
   "cell_type": "markdown",
   "metadata": {},
   "source": [
    "# Imports"
   ]
  },
  {
   "cell_type": "code",
   "execution_count": 1,
   "metadata": {
    "ExecuteTime": {
     "end_time": "2020-11-11T17:23:16.643838Z",
     "start_time": "2020-11-11T17:23:13.591069Z"
    }
   },
   "outputs": [],
   "source": [
    "import numpy as np\n",
    "import pandas as pd\n",
    "\n",
    "import sklearn\n",
    "from sklearn import metrics\n",
    "\n",
    "import matplotlib.pyplot as plt\n",
    "%matplotlib inline\n",
    "\n",
    "from sklearn.utils import resample\n",
    "from imblearn.over_sampling import SMOTE\n",
    "from collections import Counter\n",
    "from imblearn.under_sampling import TomekLinks\n",
    "\n",
    "from sklearn.model_selection import train_test_split\n",
    "from sklearn.preprocessing import StandardScaler\n",
    "from sklearn.preprocessing import MinMaxScaler\n",
    "from sklearn.neighbors import KNeighborsClassifier\n",
    "from sklearn.linear_model import LogisticRegression\n",
    "from sklearn.tree import DecisionTreeClassifier\n",
    "from sklearn.ensemble import BaggingClassifier\n",
    "from sklearn.ensemble import VotingClassifier\n",
    "from sklearn.ensemble import RandomForestClassifier\n",
    "from sklearn.model_selection import GridSearchCV\n",
    "from sklearn.model_selection import RandomizedSearchCV\n",
    "from sklearn.model_selection import cross_val_score\n",
    "from sklearn.metrics import classification_report\n",
    "from sklearn import metrics\n",
    "\n",
    "from imblearn.over_sampling import SMOTE\n",
    "from collections import Counter\n",
    "from imblearn.under_sampling import TomekLinks\n",
    "\n",
    "import xgboost as xgb\n",
    "\n",
    "import warnings\n",
    "warnings.filterwarnings('ignore')"
   ]
  },
  {
   "cell_type": "markdown",
   "metadata": {},
   "source": [
    "# Dataset Prep"
   ]
  },
  {
   "cell_type": "code",
   "execution_count": 2,
   "metadata": {
    "ExecuteTime": {
     "end_time": "2020-11-11T17:23:18.406586Z",
     "start_time": "2020-11-11T17:23:16.646058Z"
    }
   },
   "outputs": [],
   "source": [
    "data = pd.read_csv('cleaned_dummied_startup_data.csv')\n",
    "data.drop(['Unnamed: 0', 'founded_at', 'last_funding_at', 'first_funding_at'], axis=1, inplace=True)"
   ]
  },
  {
   "cell_type": "code",
   "execution_count": 3,
   "metadata": {
    "ExecuteTime": {
     "end_time": "2020-11-11T17:23:18.741643Z",
     "start_time": "2020-11-11T17:23:18.409546Z"
    }
   },
   "outputs": [],
   "source": [
    "status = []\n",
    "\n",
    "for val in data['status']:\n",
    "    if val == 'acquired':\n",
    "        status.append(0)\n",
    "    elif val == 'operating':\n",
    "        status.append(1)\n",
    "    else:\n",
    "        status.append(2)\n",
    "data['target'] = status        \n",
    "\n",
    "data.drop(['status'], axis=1, inplace=True)"
   ]
  },
  {
   "cell_type": "code",
   "execution_count": 4,
   "metadata": {
    "ExecuteTime": {
     "end_time": "2020-11-11T17:23:18.747668Z",
     "start_time": "2020-11-11T17:23:18.744184Z"
    }
   },
   "outputs": [],
   "source": [
    "training_data = data"
   ]
  },
  {
   "cell_type": "code",
   "execution_count": 5,
   "metadata": {
    "ExecuteTime": {
     "end_time": "2020-11-11T17:23:18.845906Z",
     "start_time": "2020-11-11T17:23:18.749740Z"
    }
   },
   "outputs": [],
   "source": [
    "training_data = training_data.loc[training_data['funding_total_usd'] != ' -   ']"
   ]
  },
  {
   "cell_type": "code",
   "execution_count": 6,
   "metadata": {
    "ExecuteTime": {
     "end_time": "2020-11-11T17:23:18.856544Z",
     "start_time": "2020-11-11T17:23:18.848340Z"
    }
   },
   "outputs": [],
   "source": [
    "training_data.funding_total_usd = training_data['funding_total_usd'].astype(int)"
   ]
  },
  {
   "cell_type": "markdown",
   "metadata": {},
   "source": [
    "# Dealing with Class Imbalance "
   ]
  },
  {
   "cell_type": "code",
   "execution_count": 7,
   "metadata": {
    "ExecuteTime": {
     "end_time": "2020-11-11T17:23:18.871562Z",
     "start_time": "2020-11-11T17:23:18.860677Z"
    }
   },
   "outputs": [
    {
     "data": {
      "text/plain": [
       "1    19726\n",
       "0     2309\n",
       "2     1203\n",
       "Name: target, dtype: int64"
      ]
     },
     "execution_count": 7,
     "metadata": {},
     "output_type": "execute_result"
    }
   ],
   "source": [
    "data.target.value_counts()"
   ]
  },
  {
   "cell_type": "markdown",
   "metadata": {},
   "source": [
    "## Upsampling"
   ]
  },
  {
   "cell_type": "markdown",
   "metadata": {},
   "source": [
    "### Closed"
   ]
  },
  {
   "cell_type": "code",
   "execution_count": 8,
   "metadata": {
    "ExecuteTime": {
     "end_time": "2020-11-11T17:23:19.155060Z",
     "start_time": "2020-11-11T17:23:18.873698Z"
    }
   },
   "outputs": [],
   "source": [
    "closed = training_data[training_data.target == 2]\n",
    "acquired_operating = training_data[training_data.target != 2]"
   ]
  },
  {
   "cell_type": "code",
   "execution_count": 9,
   "metadata": {
    "ExecuteTime": {
     "end_time": "2020-11-11T17:23:19.178114Z",
     "start_time": "2020-11-11T17:23:19.159833Z"
    }
   },
   "outputs": [],
   "source": [
    "closed_upsampled = resample(closed,\n",
    "                              replace=True, \n",
    "                              n_samples=3000, \n",
    "                              random_state=42) "
   ]
  },
  {
   "cell_type": "code",
   "execution_count": 10,
   "metadata": {
    "ExecuteTime": {
     "end_time": "2020-11-11T17:23:19.186033Z",
     "start_time": "2020-11-11T17:23:19.181489Z"
    }
   },
   "outputs": [
    {
     "data": {
      "text/plain": [
       "(3000, 950)"
      ]
     },
     "execution_count": 10,
     "metadata": {},
     "output_type": "execute_result"
    }
   ],
   "source": [
    "closed_upsampled.shape"
   ]
  },
  {
   "cell_type": "code",
   "execution_count": 11,
   "metadata": {
    "ExecuteTime": {
     "end_time": "2020-11-11T17:23:19.394051Z",
     "start_time": "2020-11-11T17:23:19.191119Z"
    }
   },
   "outputs": [],
   "source": [
    "upsampled_closed = pd.concat([acquired_operating, closed_upsampled])"
   ]
  },
  {
   "cell_type": "code",
   "execution_count": 12,
   "metadata": {
    "ExecuteTime": {
     "end_time": "2020-11-11T17:23:19.405250Z",
     "start_time": "2020-11-11T17:23:19.395995Z"
    }
   },
   "outputs": [
    {
     "data": {
      "text/plain": [
       "(21939, 950)"
      ]
     },
     "execution_count": 12,
     "metadata": {},
     "output_type": "execute_result"
    }
   ],
   "source": [
    "upsampled_closed.shape"
   ]
  },
  {
   "cell_type": "code",
   "execution_count": 13,
   "metadata": {
    "ExecuteTime": {
     "end_time": "2020-11-11T17:23:19.418536Z",
     "start_time": "2020-11-11T17:23:19.409445Z"
    }
   },
   "outputs": [
    {
     "data": {
      "text/plain": [
       "1    16814\n",
       "2     3000\n",
       "0     2125\n",
       "Name: target, dtype: int64"
      ]
     },
     "execution_count": 13,
     "metadata": {},
     "output_type": "execute_result"
    }
   ],
   "source": [
    "upsampled_closed.target.value_counts()"
   ]
  },
  {
   "cell_type": "code",
   "execution_count": 14,
   "metadata": {
    "ExecuteTime": {
     "end_time": "2020-11-11T17:23:19.814261Z",
     "start_time": "2020-11-11T17:23:19.423817Z"
    }
   },
   "outputs": [],
   "source": [
    "acquired = upsampled_closed[upsampled_closed.target == 0]\n",
    "closed_operating = upsampled_closed[upsampled_closed.target != 0]"
   ]
  },
  {
   "cell_type": "code",
   "execution_count": 15,
   "metadata": {
    "ExecuteTime": {
     "end_time": "2020-11-11T17:23:19.831540Z",
     "start_time": "2020-11-11T17:23:19.816661Z"
    }
   },
   "outputs": [
    {
     "data": {
      "text/plain": [
       "(2125, 950)"
      ]
     },
     "execution_count": 15,
     "metadata": {},
     "output_type": "execute_result"
    }
   ],
   "source": [
    "acquired.shape"
   ]
  },
  {
   "cell_type": "code",
   "execution_count": 16,
   "metadata": {
    "ExecuteTime": {
     "end_time": "2020-11-11T17:23:19.843774Z",
     "start_time": "2020-11-11T17:23:19.834345Z"
    }
   },
   "outputs": [
    {
     "data": {
      "text/plain": [
       "(19814, 950)"
      ]
     },
     "execution_count": 16,
     "metadata": {},
     "output_type": "execute_result"
    }
   ],
   "source": [
    "closed_operating.shape"
   ]
  },
  {
   "cell_type": "code",
   "execution_count": 17,
   "metadata": {
    "ExecuteTime": {
     "end_time": "2020-11-11T17:23:19.879052Z",
     "start_time": "2020-11-11T17:23:19.847732Z"
    }
   },
   "outputs": [],
   "source": [
    "acquired_upsampled = resample(acquired,\n",
    "                              replace=True, \n",
    "                              n_samples=3000, \n",
    "                              random_state=42) "
   ]
  },
  {
   "cell_type": "code",
   "execution_count": 18,
   "metadata": {
    "ExecuteTime": {
     "end_time": "2020-11-11T17:23:19.890104Z",
     "start_time": "2020-11-11T17:23:19.882883Z"
    }
   },
   "outputs": [
    {
     "data": {
      "text/plain": [
       "(3000, 950)"
      ]
     },
     "execution_count": 18,
     "metadata": {},
     "output_type": "execute_result"
    }
   ],
   "source": [
    "acquired_upsampled.shape"
   ]
  },
  {
   "cell_type": "code",
   "execution_count": 19,
   "metadata": {
    "ExecuteTime": {
     "end_time": "2020-11-11T17:23:20.173941Z",
     "start_time": "2020-11-11T17:23:19.894828Z"
    }
   },
   "outputs": [],
   "source": [
    "upsampled_both = pd.concat([closed_operating, acquired_upsampled])"
   ]
  },
  {
   "cell_type": "code",
   "execution_count": 20,
   "metadata": {
    "ExecuteTime": {
     "end_time": "2020-11-11T17:23:20.181690Z",
     "start_time": "2020-11-11T17:23:20.176139Z"
    }
   },
   "outputs": [
    {
     "data": {
      "text/plain": [
       "(22814, 950)"
      ]
     },
     "execution_count": 20,
     "metadata": {},
     "output_type": "execute_result"
    }
   ],
   "source": [
    "upsampled_both.shape"
   ]
  },
  {
   "cell_type": "code",
   "execution_count": 21,
   "metadata": {
    "ExecuteTime": {
     "end_time": "2020-11-11T17:23:20.195413Z",
     "start_time": "2020-11-11T17:23:20.185469Z"
    }
   },
   "outputs": [
    {
     "data": {
      "text/plain": [
       "1    16814\n",
       "2     3000\n",
       "0     3000\n",
       "Name: target, dtype: int64"
      ]
     },
     "execution_count": 21,
     "metadata": {},
     "output_type": "execute_result"
    }
   ],
   "source": [
    "upsampled_both.target.value_counts()"
   ]
  },
  {
   "cell_type": "markdown",
   "metadata": {},
   "source": [
    "## Downsampling"
   ]
  },
  {
   "cell_type": "markdown",
   "metadata": {},
   "source": [
    "### Operating"
   ]
  },
  {
   "cell_type": "markdown",
   "metadata": {},
   "source": [
    "#### Resample"
   ]
  },
  {
   "cell_type": "code",
   "execution_count": 22,
   "metadata": {
    "ExecuteTime": {
     "end_time": "2020-11-11T17:23:20.634122Z",
     "start_time": "2020-11-11T17:23:20.199378Z"
    }
   },
   "outputs": [],
   "source": [
    "operating = upsampled_both[upsampled_both.target == 1]\n",
    "closed_acquired = upsampled_both[upsampled_both.target != 1]"
   ]
  },
  {
   "cell_type": "code",
   "execution_count": 23,
   "metadata": {
    "ExecuteTime": {
     "end_time": "2020-11-11T17:23:20.683866Z",
     "start_time": "2020-11-11T17:23:20.637942Z"
    }
   },
   "outputs": [],
   "source": [
    "operating_downsampled = resample(operating,\n",
    "                                 replace=True, \n",
    "                                 n_samples=5000, \n",
    "                                 random_state=42) "
   ]
  },
  {
   "cell_type": "code",
   "execution_count": 24,
   "metadata": {
    "ExecuteTime": {
     "end_time": "2020-11-11T17:23:20.798223Z",
     "start_time": "2020-11-11T17:23:20.685729Z"
    }
   },
   "outputs": [],
   "source": [
    "balanced = pd.concat([closed_acquired, operating_downsampled])"
   ]
  },
  {
   "cell_type": "markdown",
   "metadata": {},
   "source": [
    "#### Test Train Split"
   ]
  },
  {
   "cell_type": "code",
   "execution_count": 25,
   "metadata": {
    "ExecuteTime": {
     "end_time": "2020-11-11T17:23:20.967319Z",
     "start_time": "2020-11-11T17:23:20.800683Z"
    }
   },
   "outputs": [],
   "source": [
    "y_upsampled = balanced['target']\n",
    "X_upsampled = balanced.drop('target', axis=1)"
   ]
  },
  {
   "cell_type": "code",
   "execution_count": 26,
   "metadata": {
    "ExecuteTime": {
     "end_time": "2020-11-11T17:23:21.063591Z",
     "start_time": "2020-11-11T17:23:20.969413Z"
    }
   },
   "outputs": [],
   "source": [
    "X_train, X_test, y_train, y_test = train_test_split(X_upsampled, y_upsampled, test_size=0.20, random_state=23)\n",
    "\n"
   ]
  },
  {
   "cell_type": "markdown",
   "metadata": {},
   "source": [
    "#### Tomek Links"
   ]
  },
  {
   "cell_type": "code",
   "execution_count": 27,
   "metadata": {
    "ExecuteTime": {
     "end_time": "2020-11-11T17:23:25.044865Z",
     "start_time": "2020-11-11T17:23:21.072692Z"
    }
   },
   "outputs": [],
   "source": [
    "X_down, y_down = TomekLinks().fit_resample(X_train, y_train)"
   ]
  },
  {
   "cell_type": "code",
   "execution_count": 28,
   "metadata": {
    "ExecuteTime": {
     "end_time": "2020-11-11T17:23:25.061963Z",
     "start_time": "2020-11-11T17:23:25.050414Z"
    }
   },
   "outputs": [
    {
     "data": {
      "text/plain": [
       "1    3728\n",
       "2    2400\n",
       "0    2205\n",
       "Name: target, dtype: int64"
      ]
     },
     "execution_count": 28,
     "metadata": {},
     "output_type": "execute_result"
    }
   ],
   "source": [
    "y_down.value_counts()"
   ]
  },
  {
   "cell_type": "markdown",
   "metadata": {},
   "source": [
    "# Logistic Regression"
   ]
  },
  {
   "cell_type": "code",
   "execution_count": 29,
   "metadata": {
    "ExecuteTime": {
     "end_time": "2020-11-11T17:23:25.068767Z",
     "start_time": "2020-11-11T17:23:25.064798Z"
    }
   },
   "outputs": [],
   "source": [
    "lr_balanced = LogisticRegression(solver='liblinear')"
   ]
  },
  {
   "cell_type": "code",
   "execution_count": 30,
   "metadata": {
    "ExecuteTime": {
     "end_time": "2020-11-11T17:23:25.796429Z",
     "start_time": "2020-11-11T17:23:25.072727Z"
    }
   },
   "outputs": [],
   "source": [
    "balanced = lr_balanced.fit(X_down, y_down)"
   ]
  },
  {
   "cell_type": "code",
   "execution_count": 31,
   "metadata": {
    "ExecuteTime": {
     "end_time": "2020-11-11T17:23:25.830533Z",
     "start_time": "2020-11-11T17:23:25.798661Z"
    }
   },
   "outputs": [],
   "source": [
    "y_pred = balanced.predict(X_test)"
   ]
  },
  {
   "cell_type": "code",
   "execution_count": 32,
   "metadata": {
    "ExecuteTime": {
     "end_time": "2020-11-11T17:23:25.846651Z",
     "start_time": "2020-11-11T17:23:25.832217Z"
    }
   },
   "outputs": [
    {
     "name": "stdout",
     "output_type": "stream",
     "text": [
      "              precision    recall  f1-score   support\n",
      "\n",
      "           0       0.50      0.24      0.32       591\n",
      "           1       0.50      0.89      0.64      1009\n",
      "           2       0.60      0.12      0.20       600\n",
      "\n",
      "    accuracy                           0.50      2200\n",
      "   macro avg       0.53      0.42      0.39      2200\n",
      "weighted avg       0.53      0.50      0.43      2200\n",
      "\n"
     ]
    }
   ],
   "source": [
    "print(classification_report(y_test,y_pred))"
   ]
  },
  {
   "cell_type": "code",
   "execution_count": 33,
   "metadata": {
    "ExecuteTime": {
     "end_time": "2020-11-11T17:23:25.862148Z",
     "start_time": "2020-11-11T17:23:25.850667Z"
    }
   },
   "outputs": [
    {
     "data": {
      "text/plain": [
       "0.5031818181818182"
      ]
     },
     "execution_count": 33,
     "metadata": {},
     "output_type": "execute_result"
    }
   ],
   "source": [
    "metrics.precision_score(y_test,y_pred, average='micro')"
   ]
  },
  {
   "cell_type": "code",
   "execution_count": 34,
   "metadata": {
    "ExecuteTime": {
     "end_time": "2020-11-11T17:23:25.870503Z",
     "start_time": "2020-11-11T17:23:25.866483Z"
    }
   },
   "outputs": [],
   "source": [
    "# Random Forest"
   ]
  },
  {
   "cell_type": "code",
   "execution_count": 35,
   "metadata": {
    "ExecuteTime": {
     "end_time": "2020-11-11T17:23:25.885080Z",
     "start_time": "2020-11-11T17:23:25.872731Z"
    }
   },
   "outputs": [],
   "source": [
    "rf = RandomForestClassifier(n_jobs=-1)"
   ]
  },
  {
   "cell_type": "code",
   "execution_count": 52,
   "metadata": {
    "ExecuteTime": {
     "end_time": "2020-11-11T18:16:52.812688Z",
     "start_time": "2020-11-11T18:16:52.799482Z"
    }
   },
   "outputs": [],
   "source": [
    "param_grid = {  \n",
    "    'n_estimators': [100,200,300],\n",
    "    'criterion': ['gini','entropy'],\n",
    "    'max_depth': list(range(3,9)),\n",
    "    'max_features': list(range(100,1000,20)),\n",
    "    'random_state': [5,10,15,20,42],\n",
    "    'min_samples_leaf': [1,2,3,4,5]\n",
    "}"
   ]
  },
  {
   "cell_type": "code",
   "execution_count": 53,
   "metadata": {
    "ExecuteTime": {
     "end_time": "2020-11-11T18:17:13.889782Z",
     "start_time": "2020-11-11T18:17:13.882822Z"
    }
   },
   "outputs": [],
   "source": [
    "rand_grid_tree = RandomizedSearchCV(rf, \n",
    "                                    param_grid, \n",
    "                                    cv=5,\n",
    "                                    verbose=1,\n",
    "                                    n_jobs=-1\n",
    ")"
   ]
  },
  {
   "cell_type": "code",
   "execution_count": 54,
   "metadata": {
    "ExecuteTime": {
     "end_time": "2020-11-11T18:20:40.212178Z",
     "start_time": "2020-11-11T18:17:31.746421Z"
    }
   },
   "outputs": [
    {
     "name": "stdout",
     "output_type": "stream",
     "text": [
      "Fitting 5 folds for each of 10 candidates, totalling 50 fits\n"
     ]
    },
    {
     "name": "stderr",
     "output_type": "stream",
     "text": [
      "[Parallel(n_jobs=-1)]: Using backend LokyBackend with 4 concurrent workers.\n",
      "[Parallel(n_jobs=-1)]: Done  42 tasks      | elapsed:  2.8min\n",
      "[Parallel(n_jobs=-1)]: Done  50 out of  50 | elapsed:  3.0min finished\n"
     ]
    },
    {
     "data": {
      "text/plain": [
       "RandomizedSearchCV(cv=5, estimator=RandomForestClassifier(n_jobs=-1), n_jobs=-1,\n",
       "                   param_distributions={'criterion': ['gini', 'entropy'],\n",
       "                                        'max_depth': [3, 4, 5, 6, 7, 8],\n",
       "                                        'max_features': [100, 120, 140, 160,\n",
       "                                                         180, 200, 220, 240,\n",
       "                                                         260, 280, 300, 320,\n",
       "                                                         340, 360, 380, 400,\n",
       "                                                         420, 440, 460, 480,\n",
       "                                                         500, 520, 540, 560,\n",
       "                                                         580, 600, 620, 640,\n",
       "                                                         660, 680, ...],\n",
       "                                        'min_samples_leaf': [1, 2, 3, 4, 5],\n",
       "                                        'n_estimators': [100, 200, 300],\n",
       "                                        'random_state': [5, 10, 15, 20, 42]},\n",
       "                   verbose=1)"
      ]
     },
     "execution_count": 54,
     "metadata": {},
     "output_type": "execute_result"
    }
   ],
   "source": [
    "rand_grid_tree.fit(X_down, y_down)"
   ]
  },
  {
   "cell_type": "code",
   "execution_count": 39,
   "metadata": {
    "ExecuteTime": {
     "end_time": "2020-11-11T17:25:09.599433Z",
     "start_time": "2020-11-11T17:25:09.458893Z"
    }
   },
   "outputs": [],
   "source": [
    "y_pred_rf = rand_grid_tree.predict(X_test)"
   ]
  },
  {
   "cell_type": "code",
   "execution_count": null,
   "metadata": {},
   "outputs": [],
   "source": []
  },
  {
   "cell_type": "code",
   "execution_count": null,
   "metadata": {},
   "outputs": [],
   "source": []
  },
  {
   "cell_type": "code",
   "execution_count": 40,
   "metadata": {
    "ExecuteTime": {
     "end_time": "2020-11-11T17:25:09.612153Z",
     "start_time": "2020-11-11T17:25:09.602144Z"
    }
   },
   "outputs": [
    {
     "data": {
      "text/plain": [
       "0.6040909090909091"
      ]
     },
     "execution_count": 40,
     "metadata": {},
     "output_type": "execute_result"
    }
   ],
   "source": [
    "metrics.precision_score(y_test, y_pred_rf, average='micro')"
   ]
  },
  {
   "cell_type": "markdown",
   "metadata": {},
   "source": [
    "# XG Boost"
   ]
  },
  {
   "cell_type": "code",
   "execution_count": 50,
   "metadata": {
    "ExecuteTime": {
     "end_time": "2020-11-11T17:28:19.404151Z",
     "start_time": "2020-11-11T17:28:19.399634Z"
    }
   },
   "outputs": [
    {
     "ename": "SyntaxError",
     "evalue": "invalid syntax (<ipython-input-50-4110bbf1607c>, line 3)",
     "output_type": "error",
     "traceback": [
      "\u001b[0;36m  File \u001b[0;32m\"<ipython-input-50-4110bbf1607c>\"\u001b[0;36m, line \u001b[0;32m3\u001b[0m\n\u001b[0;31m    alpha = 1\u001b[0m\n\u001b[0m        ^\u001b[0m\n\u001b[0;31mSyntaxError\u001b[0m\u001b[0;31m:\u001b[0m invalid syntax\n"
     ]
    }
   ],
   "source": [
    "xg_clf = xgb.XGBClassifier(objective ='multi:softmax', \n",
    "                           silent=1\n",
    "                           alpha = 1\n",
    "            )"
   ]
  },
  {
   "cell_type": "code",
   "execution_count": 51,
   "metadata": {
    "ExecuteTime": {
     "end_time": "2020-11-11T17:28:19.740189Z",
     "start_time": "2020-11-11T17:28:19.733763Z"
    }
   },
   "outputs": [
    {
     "ename": "SyntaxError",
     "evalue": "invalid syntax (<ipython-input-51-36a476b9937b>, line 6)",
     "output_type": "error",
     "traceback": [
      "\u001b[0;36m  File \u001b[0;32m\"<ipython-input-51-36a476b9937b>\"\u001b[0;36m, line \u001b[0;32m6\u001b[0m\n\u001b[0;31m    'learning_rate' : list(range(0.1,0.5,0.1))\u001b[0m\n\u001b[0m                  ^\u001b[0m\n\u001b[0;31mSyntaxError\u001b[0m\u001b[0;31m:\u001b[0m invalid syntax\n"
     ]
    }
   ],
   "source": [
    "param_grid_xgb = {'n_estimators': [200,300,400,500,600],\n",
    "                  'colsample_bytree': [0.4,0.5,0.6],\n",
    "                  'subsample': [0.4,0.5,0.6],\n",
    "                  'min_samples_leaf': [1,2,3,4,5],\n",
    "                  'max_depth' : list(range(3,7))\n",
    "                  'learning_rate' : list(range(0.1,0.5,0.1))\n",
    "}"
   ]
  },
  {
   "cell_type": "code",
   "execution_count": null,
   "metadata": {},
   "outputs": [],
   "source": []
  }
 ],
 "metadata": {
  "kernelspec": {
   "display_name": "learn-env",
   "language": "python",
   "name": "learn-env"
  },
  "language_info": {
   "codemirror_mode": {
    "name": "ipython",
    "version": 3
   },
   "file_extension": ".py",
   "mimetype": "text/x-python",
   "name": "python",
   "nbconvert_exporter": "python",
   "pygments_lexer": "ipython3",
   "version": "3.6.9"
  },
  "toc": {
   "base_numbering": 1,
   "nav_menu": {},
   "number_sections": true,
   "sideBar": true,
   "skip_h1_title": false,
   "title_cell": "Table of Contents",
   "title_sidebar": "Contents",
   "toc_cell": false,
   "toc_position": {},
   "toc_section_display": true,
   "toc_window_display": false
  },
  "varInspector": {
   "cols": {
    "lenName": 16,
    "lenType": 16,
    "lenVar": 40
   },
   "kernels_config": {
    "python": {
     "delete_cmd_postfix": "",
     "delete_cmd_prefix": "del ",
     "library": "var_list.py",
     "varRefreshCmd": "print(var_dic_list())"
    },
    "r": {
     "delete_cmd_postfix": ") ",
     "delete_cmd_prefix": "rm(",
     "library": "var_list.r",
     "varRefreshCmd": "cat(var_dic_list()) "
    }
   },
   "types_to_exclude": [
    "module",
    "function",
    "builtin_function_or_method",
    "instance",
    "_Feature"
   ],
   "window_display": false
  }
 },
 "nbformat": 4,
 "nbformat_minor": 4
}
