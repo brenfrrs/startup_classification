{
 "cells": [
  {
   "cell_type": "markdown",
   "metadata": {},
   "source": [
    "# Imports"
   ]
  },
  {
   "cell_type": "code",
   "execution_count": 1,
   "metadata": {
    "ExecuteTime": {
     "end_time": "2020-11-11T01:24:01.961301Z",
     "start_time": "2020-11-11T01:23:55.995507Z"
    }
   },
   "outputs": [],
   "source": [
    "import pandas as pd\n",
    "pd.options.display.max_columns = 50\n",
    "\n",
    "import numpy as np\n",
    "import seaborn as sns \n",
    "import matplotlib.pyplot as plt\n",
    "import calendar\n",
    "%matplotlib inline\n",
    "\n",
    "data = pd.read_csv('../data/investments_VC.csv', encoding='iso-8859-1')\n",
    "data.dropna(axis=0, how='all', inplace=True)\n",
    "\n",
    "import warnings\n",
    "warnings.simplefilter(\"ignore\")"
   ]
  },
  {
   "cell_type": "markdown",
   "metadata": {},
   "source": [
    "# Data Cleaning"
   ]
  },
  {
   "cell_type": "code",
   "execution_count": 2,
   "metadata": {
    "ExecuteTime": {
     "end_time": "2020-11-11T01:24:02.007062Z",
     "start_time": "2020-11-11T01:24:01.998087Z"
    }
   },
   "outputs": [],
   "source": [
    "data.columns = data.columns.str.replace(' ', '') "
   ]
  },
  {
   "cell_type": "markdown",
   "metadata": {},
   "source": [
    "## Converting to proper datatypes"
   ]
  },
  {
   "cell_type": "code",
   "execution_count": 3,
   "metadata": {
    "ExecuteTime": {
     "end_time": "2020-11-11T01:24:02.236085Z",
     "start_time": "2020-11-11T01:24:02.014707Z"
    }
   },
   "outputs": [],
   "source": [
    "data[[\"founded_at\"]] = data[[\"founded_at\"]].apply(pd.to_datetime, errors='coerce')\n",
    "data[[\"last_funding_at\"]] = data[[\"last_funding_at\"]].apply(pd.to_datetime, errors='coerce')\n",
    "data[[\"founded_month\"]] = data[[\"founded_month\"]].apply(pd.to_datetime, errors='coerce')\n",
    "data[[\"first_funding_at\"]] = data[[\"first_funding_at\"]].apply(pd.to_datetime, errors='coerce')"
   ]
  },
  {
   "cell_type": "code",
   "execution_count": 4,
   "metadata": {
    "ExecuteTime": {
     "end_time": "2020-11-11T01:24:02.313499Z",
     "start_time": "2020-11-11T01:24:02.247566Z"
    }
   },
   "outputs": [],
   "source": [
    "data['funding_total_usd'] = data['funding_total_usd'].str.replace(',', '')"
   ]
  },
  {
   "cell_type": "markdown",
   "metadata": {},
   "source": [
    "## Dropping Observations with Null Values"
   ]
  },
  {
   "cell_type": "code",
   "execution_count": 5,
   "metadata": {
    "ExecuteTime": {
     "end_time": "2020-11-11T01:24:03.250229Z",
     "start_time": "2020-11-11T01:24:02.520381Z"
    }
   },
   "outputs": [],
   "source": [
    "data = data.dropna(subset=['founded_year',\n",
    "                           'first_funding_at',\n",
    "                           'founded_quarter',\n",
    "                           'founded_month',\n",
    "                           'founded_at',\n",
    "                           'state_code',\n",
    "                           'country_code',\n",
    "                           'status',\n",
    "                           'market'\n",
    "                   ])"
   ]
  },
  {
   "cell_type": "markdown",
   "metadata": {},
   "source": [
    "## Removing quarter from founding quarter"
   ]
  },
  {
   "cell_type": "code",
   "execution_count": 6,
   "metadata": {
    "ExecuteTime": {
     "end_time": "2020-11-11T01:24:03.521532Z",
     "start_time": "2020-11-11T01:24:03.258836Z"
    }
   },
   "outputs": [],
   "source": [
    "data['founded_quarter'] = data.founded_quarter.str.split('-').str[1]"
   ]
  },
  {
   "cell_type": "markdown",
   "metadata": {},
   "source": [
    "## Removing null values from founded year"
   ]
  },
  {
   "cell_type": "markdown",
   "metadata": {},
   "source": [
    "All observations have a founded_at value, but not all values have a founded_year value. Therefore, we will use founded_at to fill null values in founded_year"
   ]
  },
  {
   "cell_type": "code",
   "execution_count": 7,
   "metadata": {
    "ExecuteTime": {
     "end_time": "2020-11-11T01:24:03.860840Z",
     "start_time": "2020-11-11T01:24:03.832848Z"
    }
   },
   "outputs": [],
   "source": [
    "data['founded_year'] = pd.DatetimeIndex(data['founded_at']).year"
   ]
  },
  {
   "cell_type": "markdown",
   "metadata": {},
   "source": [
    "## Turning Category List into Individual Columns"
   ]
  },
  {
   "cell_type": "markdown",
   "metadata": {},
   "source": [
    "Turn each value into a list"
   ]
  },
  {
   "cell_type": "code",
   "execution_count": 8,
   "metadata": {
    "ExecuteTime": {
     "end_time": "2020-11-11T01:24:03.919060Z",
     "start_time": "2020-11-11T01:24:03.893971Z"
    }
   },
   "outputs": [],
   "source": [
    "data.category_list = data.category_list.astype(str)"
   ]
  },
  {
   "cell_type": "markdown",
   "metadata": {},
   "source": [
    "Split the list on |"
   ]
  },
  {
   "cell_type": "code",
   "execution_count": 9,
   "metadata": {
    "ExecuteTime": {
     "end_time": "2020-11-11T01:24:04.455145Z",
     "start_time": "2020-11-11T01:24:03.939462Z"
    }
   },
   "outputs": [],
   "source": [
    "data.category_list = data.category_list.apply(lambda x: x.split('|'))"
   ]
  },
  {
   "cell_type": "markdown",
   "metadata": {},
   "source": [
    "Reset index "
   ]
  },
  {
   "cell_type": "code",
   "execution_count": 10,
   "metadata": {
    "ExecuteTime": {
     "end_time": "2020-11-11T01:24:04.482948Z",
     "start_time": "2020-11-11T01:24:04.460881Z"
    }
   },
   "outputs": [],
   "source": [
    "data.reset_index(inplace = True, drop = True)"
   ]
  },
  {
   "cell_type": "markdown",
   "metadata": {},
   "source": [
    "Strip whitespace from value lists"
   ]
  },
  {
   "cell_type": "code",
   "execution_count": 11,
   "metadata": {
    "ExecuteTime": {
     "end_time": "2020-11-11T01:24:23.812280Z",
     "start_time": "2020-11-11T01:24:04.493418Z"
    }
   },
   "outputs": [],
   "source": [
    "for i, item in enumerate(data.category_list):\n",
    "    data.category_list[i] = [x.strip() for x in data.category_list[i] if x.strip()]"
   ]
  },
  {
   "cell_type": "markdown",
   "metadata": {},
   "source": [
    "Making category list lowercase and splitting on spaces"
   ]
  },
  {
   "cell_type": "code",
   "execution_count": 12,
   "metadata": {
    "ExecuteTime": {
     "end_time": "2020-11-11T01:24:48.847261Z",
     "start_time": "2020-11-11T01:24:23.816327Z"
    }
   },
   "outputs": [],
   "source": [
    "for num in range(0, len(data.category_list)):\n",
    "    data.category_list[num] = \" \".join(data.category_list[num]).split()\n",
    "    for i,elem in enumerate(data.category_list[num]):\n",
    "        data.category_list[num][i] = data.category_list[num][i].lower()"
   ]
  },
  {
   "cell_type": "markdown",
   "metadata": {},
   "source": [
    "Creating new dummy columns for category list"
   ]
  },
  {
   "cell_type": "code",
   "execution_count": 13,
   "metadata": {
    "ExecuteTime": {
     "end_time": "2020-11-11T01:24:48.876787Z",
     "start_time": "2020-11-11T01:24:48.871403Z"
    }
   },
   "outputs": [],
   "source": [
    "s = data.category_list"
   ]
  },
  {
   "cell_type": "code",
   "execution_count": 14,
   "metadata": {
    "ExecuteTime": {
     "end_time": "2020-11-11T01:25:07.772461Z",
     "start_time": "2020-11-11T01:24:48.880043Z"
    }
   },
   "outputs": [],
   "source": [
    "category_dummies = pd.get_dummies(s.apply(pd.Series).stack()).sum(level=0)"
   ]
  },
  {
   "cell_type": "markdown",
   "metadata": {},
   "source": [
    "Concatonating dummy list with dataset"
   ]
  },
  {
   "cell_type": "code",
   "execution_count": 15,
   "metadata": {
    "ExecuteTime": {
     "end_time": "2020-11-11T01:25:07.814134Z",
     "start_time": "2020-11-11T01:25:07.774543Z"
    }
   },
   "outputs": [],
   "source": [
    "data = pd.concat([data,category_dummies], axis=1)"
   ]
  },
  {
   "cell_type": "code",
   "execution_count": 16,
   "metadata": {
    "ExecuteTime": {
     "end_time": "2020-11-11T01:25:07.828554Z",
     "start_time": "2020-11-11T01:25:07.816535Z"
    }
   },
   "outputs": [
    {
     "data": {
      "text/plain": [
       "(23238, 772)"
      ]
     },
     "execution_count": 16,
     "metadata": {},
     "output_type": "execute_result"
    }
   ],
   "source": [
    "data.shape"
   ]
  },
  {
   "cell_type": "markdown",
   "metadata": {},
   "source": [
    "# Feature Engineering"
   ]
  },
  {
   "cell_type": "markdown",
   "metadata": {},
   "source": [
    "## Adding Domain name ending as a feature"
   ]
  },
  {
   "cell_type": "code",
   "execution_count": 17,
   "metadata": {
    "ExecuteTime": {
     "end_time": "2020-11-11T01:25:08.164140Z",
     "start_time": "2020-11-11T01:25:07.836480Z"
    }
   },
   "outputs": [],
   "source": [
    "#split on the domain after last .\n",
    "end = data[\"homepage_url\"].str.rsplit(\".\", n = 1, expand = True)\n",
    "data['url_ending'] = end[1]\n",
    "# data.url_ending = data['url_ending'].str.rstrip('/')\n",
    "\n",
    "#remove backslash values in the endings\n",
    "slashed_vals = data['url_ending'].str.rsplit(\"/\", n = 3, expand = True)\n",
    "data['url_ending'] = slashed_vals[0]"
   ]
  },
  {
   "cell_type": "markdown",
   "metadata": {},
   "source": [
    "## New Feature: days_from_founding_to_funding"
   ]
  },
  {
   "cell_type": "markdown",
   "metadata": {},
   "source": [
    "Difference btw founding and funding date"
   ]
  },
  {
   "cell_type": "code",
   "execution_count": 18,
   "metadata": {
    "ExecuteTime": {
     "end_time": "2020-11-11T01:25:08.178179Z",
     "start_time": "2020-11-11T01:25:08.166886Z"
    }
   },
   "outputs": [],
   "source": [
    "data['days_from_founding_to_funding'] = data['first_funding_at']-data['founded_at']"
   ]
  },
  {
   "cell_type": "markdown",
   "metadata": {},
   "source": [
    "Changing datatype to int"
   ]
  },
  {
   "cell_type": "code",
   "execution_count": 19,
   "metadata": {
    "ExecuteTime": {
     "end_time": "2020-11-11T01:25:08.207448Z",
     "start_time": "2020-11-11T01:25:08.185399Z"
    }
   },
   "outputs": [],
   "source": [
    "data['days_from_founding_to_funding'] = data['days_from_founding_to_funding'].dt.days.astype('int16')\n",
    "data.funding_rounds = data.funding_rounds.astype(int)"
   ]
  },
  {
   "cell_type": "code",
   "execution_count": 20,
   "metadata": {
    "ExecuteTime": {
     "end_time": "2020-11-11T01:25:08.260983Z",
     "start_time": "2020-11-11T01:25:08.214079Z"
    }
   },
   "outputs": [
    {
     "data": {
      "text/html": [
       "<div>\n",
       "<style scoped>\n",
       "    .dataframe tbody tr th:only-of-type {\n",
       "        vertical-align: middle;\n",
       "    }\n",
       "\n",
       "    .dataframe tbody tr th {\n",
       "        vertical-align: top;\n",
       "    }\n",
       "\n",
       "    .dataframe thead th {\n",
       "        text-align: right;\n",
       "    }\n",
       "</style>\n",
       "<table border=\"1\" class=\"dataframe\">\n",
       "  <thead>\n",
       "    <tr style=\"text-align: right;\">\n",
       "      <th></th>\n",
       "      <th>permalink</th>\n",
       "      <th>name</th>\n",
       "      <th>homepage_url</th>\n",
       "      <th>category_list</th>\n",
       "      <th>market</th>\n",
       "      <th>funding_total_usd</th>\n",
       "      <th>status</th>\n",
       "      <th>country_code</th>\n",
       "      <th>state_code</th>\n",
       "      <th>region</th>\n",
       "      <th>city</th>\n",
       "      <th>funding_rounds</th>\n",
       "      <th>founded_at</th>\n",
       "      <th>founded_month</th>\n",
       "      <th>founded_quarter</th>\n",
       "      <th>founded_year</th>\n",
       "      <th>first_funding_at</th>\n",
       "      <th>last_funding_at</th>\n",
       "      <th>seed</th>\n",
       "      <th>venture</th>\n",
       "      <th>equity_crowdfunding</th>\n",
       "      <th>undisclosed</th>\n",
       "      <th>convertible_note</th>\n",
       "      <th>debt_financing</th>\n",
       "      <th>angel</th>\n",
       "      <th>...</th>\n",
       "      <th>visual</th>\n",
       "      <th>visualization</th>\n",
       "      <th>voip</th>\n",
       "      <th>waste</th>\n",
       "      <th>water</th>\n",
       "      <th>wealth</th>\n",
       "      <th>wear</th>\n",
       "      <th>web</th>\n",
       "      <th>webos</th>\n",
       "      <th>weddings</th>\n",
       "      <th>wellness</th>\n",
       "      <th>wholesale</th>\n",
       "      <th>wind</th>\n",
       "      <th>windows</th>\n",
       "      <th>wine</th>\n",
       "      <th>wireless</th>\n",
       "      <th>women</th>\n",
       "      <th>workforces</th>\n",
       "      <th>world</th>\n",
       "      <th>worlds</th>\n",
       "      <th>worldwide</th>\n",
       "      <th>writers</th>\n",
       "      <th>young</th>\n",
       "      <th>url_ending</th>\n",
       "      <th>days_from_founding_to_funding</th>\n",
       "    </tr>\n",
       "  </thead>\n",
       "  <tbody>\n",
       "    <tr>\n",
       "      <th>0</th>\n",
       "      <td>/organization/waywire</td>\n",
       "      <td>#waywire</td>\n",
       "      <td>http://www.waywire.com</td>\n",
       "      <td>[entertainment, politics, social, media, news]</td>\n",
       "      <td>News</td>\n",
       "      <td>1750000</td>\n",
       "      <td>acquired</td>\n",
       "      <td>USA</td>\n",
       "      <td>NY</td>\n",
       "      <td>New York City</td>\n",
       "      <td>New York</td>\n",
       "      <td>1</td>\n",
       "      <td>2012-06-01</td>\n",
       "      <td>2012-06-01</td>\n",
       "      <td>Q2</td>\n",
       "      <td>2012</td>\n",
       "      <td>2012-06-30</td>\n",
       "      <td>2012-06-30</td>\n",
       "      <td>1750000.0</td>\n",
       "      <td>0.0</td>\n",
       "      <td>0.0</td>\n",
       "      <td>0.0</td>\n",
       "      <td>0.0</td>\n",
       "      <td>0.0</td>\n",
       "      <td>0.0</td>\n",
       "      <td>...</td>\n",
       "      <td>0</td>\n",
       "      <td>0</td>\n",
       "      <td>0</td>\n",
       "      <td>0</td>\n",
       "      <td>0</td>\n",
       "      <td>0</td>\n",
       "      <td>0</td>\n",
       "      <td>0</td>\n",
       "      <td>0</td>\n",
       "      <td>0</td>\n",
       "      <td>0</td>\n",
       "      <td>0</td>\n",
       "      <td>0</td>\n",
       "      <td>0</td>\n",
       "      <td>0</td>\n",
       "      <td>0</td>\n",
       "      <td>0</td>\n",
       "      <td>0</td>\n",
       "      <td>0</td>\n",
       "      <td>0</td>\n",
       "      <td>0</td>\n",
       "      <td>0</td>\n",
       "      <td>0</td>\n",
       "      <td>com</td>\n",
       "      <td>29</td>\n",
       "    </tr>\n",
       "    <tr>\n",
       "      <th>1</th>\n",
       "      <td>/organization/r-ranch-and-mine</td>\n",
       "      <td>-R- Ranch and Mine</td>\n",
       "      <td>NaN</td>\n",
       "      <td>[tourism, entertainment, games]</td>\n",
       "      <td>Tourism</td>\n",
       "      <td>60000</td>\n",
       "      <td>operating</td>\n",
       "      <td>USA</td>\n",
       "      <td>TX</td>\n",
       "      <td>Dallas</td>\n",
       "      <td>Fort Worth</td>\n",
       "      <td>2</td>\n",
       "      <td>2014-01-01</td>\n",
       "      <td>2014-01-01</td>\n",
       "      <td>Q1</td>\n",
       "      <td>2014</td>\n",
       "      <td>2014-08-17</td>\n",
       "      <td>2014-09-26</td>\n",
       "      <td>0.0</td>\n",
       "      <td>0.0</td>\n",
       "      <td>60000.0</td>\n",
       "      <td>0.0</td>\n",
       "      <td>0.0</td>\n",
       "      <td>0.0</td>\n",
       "      <td>0.0</td>\n",
       "      <td>...</td>\n",
       "      <td>0</td>\n",
       "      <td>0</td>\n",
       "      <td>0</td>\n",
       "      <td>0</td>\n",
       "      <td>0</td>\n",
       "      <td>0</td>\n",
       "      <td>0</td>\n",
       "      <td>0</td>\n",
       "      <td>0</td>\n",
       "      <td>0</td>\n",
       "      <td>0</td>\n",
       "      <td>0</td>\n",
       "      <td>0</td>\n",
       "      <td>0</td>\n",
       "      <td>0</td>\n",
       "      <td>0</td>\n",
       "      <td>0</td>\n",
       "      <td>0</td>\n",
       "      <td>0</td>\n",
       "      <td>0</td>\n",
       "      <td>0</td>\n",
       "      <td>0</td>\n",
       "      <td>0</td>\n",
       "      <td>NaN</td>\n",
       "      <td>228</td>\n",
       "    </tr>\n",
       "  </tbody>\n",
       "</table>\n",
       "<p>2 rows × 774 columns</p>\n",
       "</div>"
      ],
      "text/plain": [
       "                        permalink                name            homepage_url  \\\n",
       "0           /organization/waywire            #waywire  http://www.waywire.com   \n",
       "1  /organization/r-ranch-and-mine  -R- Ranch and Mine                     NaN   \n",
       "\n",
       "                                    category_list     market  \\\n",
       "0  [entertainment, politics, social, media, news]      News    \n",
       "1                 [tourism, entertainment, games]   Tourism    \n",
       "\n",
       "  funding_total_usd     status country_code state_code         region  \\\n",
       "0          1750000    acquired          USA         NY  New York City   \n",
       "1            60000   operating          USA         TX         Dallas   \n",
       "\n",
       "         city  funding_rounds founded_at founded_month founded_quarter  \\\n",
       "0    New York               1 2012-06-01    2012-06-01              Q2   \n",
       "1  Fort Worth               2 2014-01-01    2014-01-01              Q1   \n",
       "\n",
       "   founded_year first_funding_at last_funding_at       seed  venture  \\\n",
       "0          2012       2012-06-30      2012-06-30  1750000.0      0.0   \n",
       "1          2014       2014-08-17      2014-09-26        0.0      0.0   \n",
       "\n",
       "   equity_crowdfunding  undisclosed  convertible_note  debt_financing  angel  \\\n",
       "0                  0.0          0.0               0.0             0.0    0.0   \n",
       "1              60000.0          0.0               0.0             0.0    0.0   \n",
       "\n",
       "   ...  visual  visualization  voip  waste  water  wealth  wear  web  webos  \\\n",
       "0  ...       0              0     0      0      0       0     0    0      0   \n",
       "1  ...       0              0     0      0      0       0     0    0      0   \n",
       "\n",
       "   weddings  wellness  wholesale  wind  windows  wine  wireless  women  \\\n",
       "0         0         0          0     0        0     0         0      0   \n",
       "1         0         0          0     0        0     0         0      0   \n",
       "\n",
       "   workforces  world  worlds  worldwide  writers  young  url_ending  \\\n",
       "0           0      0       0          0        0      0         com   \n",
       "1           0      0       0          0        0      0         NaN   \n",
       "\n",
       "   days_from_founding_to_funding  \n",
       "0                             29  \n",
       "1                            228  \n",
       "\n",
       "[2 rows x 774 columns]"
      ]
     },
     "execution_count": 20,
     "metadata": {},
     "output_type": "execute_result"
    }
   ],
   "source": [
    "data.head(2)"
   ]
  },
  {
   "cell_type": "markdown",
   "metadata": {},
   "source": [
    "## New Feature: time_between_first_and_last_funding"
   ]
  },
  {
   "cell_type": "markdown",
   "metadata": {},
   "source": [
    "Time between first and last funding round"
   ]
  },
  {
   "cell_type": "code",
   "execution_count": 21,
   "metadata": {
    "ExecuteTime": {
     "end_time": "2020-11-11T01:25:08.300247Z",
     "start_time": "2020-11-11T01:25:08.264260Z"
    }
   },
   "outputs": [],
   "source": [
    "data['time_between_first_and_last_funding'] = data['last_funding_at']-data['first_funding_at']\n",
    "data['time_between_first_and_last_funding'] = data['time_between_first_and_last_funding'].dt.days.astype('int16')\n",
    "data.time_between_first_and_last_funding = data.time_between_first_and_last_funding.astype(int)"
   ]
  },
  {
   "cell_type": "markdown",
   "metadata": {},
   "source": [
    "## Dummies"
   ]
  },
  {
   "cell_type": "markdown",
   "metadata": {},
   "source": [
    "We are going to dummy the following categorical columns: market, country_code, state_code, funding_rounds, founded_year, url_ending "
   ]
  },
  {
   "cell_type": "markdown",
   "metadata": {},
   "source": [
    "### Founding Month"
   ]
  },
  {
   "cell_type": "markdown",
   "metadata": {},
   "source": [
    "Turn month integer into abbreviation of month name"
   ]
  },
  {
   "cell_type": "code",
   "execution_count": 22,
   "metadata": {
    "ExecuteTime": {
     "end_time": "2020-11-11T01:25:08.494611Z",
     "start_time": "2020-11-11T01:25:08.303088Z"
    }
   },
   "outputs": [],
   "source": [
    "data['founding_month'] = pd.DatetimeIndex(data['founded_month']).month\n",
    "data['founding_month'] = data['founding_month'].fillna(0)\n",
    "data.founding_month = data.founding_month.astype(int)\n",
    "data['founding_month'] = data['founding_month'].apply(lambda x: calendar.month_abbr[x])"
   ]
  },
  {
   "cell_type": "markdown",
   "metadata": {},
   "source": [
    "Create dummy columns for each month"
   ]
  },
  {
   "cell_type": "code",
   "execution_count": 23,
   "metadata": {
    "ExecuteTime": {
     "end_time": "2020-11-11T01:25:08.690294Z",
     "start_time": "2020-11-11T01:25:08.505230Z"
    }
   },
   "outputs": [],
   "source": [
    "month_dummies = pd.get_dummies(data.founding_month, prefix='month')\n",
    "data = data.drop(columns = ['founded_month','founding_month'])\n",
    "data = pd.concat([data,month_dummies], axis=1)\n",
    "data = data.drop(columns = ['month_Jan'])"
   ]
  },
  {
   "cell_type": "markdown",
   "metadata": {},
   "source": [
    "### Founded Quarter"
   ]
  },
  {
   "cell_type": "code",
   "execution_count": 24,
   "metadata": {
    "ExecuteTime": {
     "end_time": "2020-11-11T01:25:08.795113Z",
     "start_time": "2020-11-11T01:25:08.701877Z"
    }
   },
   "outputs": [],
   "source": [
    "founded_quarter_dummies = pd.get_dummies(data.founded_quarter, drop_first=True, prefix='founded_quarter')\n",
    "data = data.drop(columns = 'founded_quarter')\n",
    "data = pd.concat([data,founded_quarter_dummies], axis=1)"
   ]
  },
  {
   "cell_type": "markdown",
   "metadata": {},
   "source": [
    "### Country Code"
   ]
  },
  {
   "cell_type": "code",
   "execution_count": 25,
   "metadata": {
    "ExecuteTime": {
     "end_time": "2020-11-11T01:25:08.895998Z",
     "start_time": "2020-11-11T01:25:08.798482Z"
    }
   },
   "outputs": [],
   "source": [
    "country_code_dummies = pd.get_dummies(data.country_code, drop_first=True, prefix='country_code')\n",
    "data = data.drop(columns = 'country_code')\n",
    "data = pd.concat([data,country_code_dummies], axis=1)"
   ]
  },
  {
   "cell_type": "markdown",
   "metadata": {},
   "source": [
    "### State Code"
   ]
  },
  {
   "cell_type": "code",
   "execution_count": 26,
   "metadata": {
    "ExecuteTime": {
     "end_time": "2020-11-11T01:25:09.013780Z",
     "start_time": "2020-11-11T01:25:08.898746Z"
    }
   },
   "outputs": [],
   "source": [
    "state_code_dummies = pd.get_dummies(data.state_code, drop_first=True, prefix='state_code')\n",
    "data = data.drop(columns = 'state_code')\n",
    "data = pd.concat([data,state_code_dummies], axis=1)"
   ]
  },
  {
   "cell_type": "markdown",
   "metadata": {},
   "source": [
    "### Founded Year"
   ]
  },
  {
   "cell_type": "code",
   "execution_count": 27,
   "metadata": {
    "ExecuteTime": {
     "end_time": "2020-11-11T01:25:09.259947Z",
     "start_time": "2020-11-11T01:25:09.151512Z"
    }
   },
   "outputs": [],
   "source": [
    "founded_year_dummies = pd.get_dummies(data.founded_year, drop_first=True, prefix='founded_year')\n",
    "data = data.drop(columns = 'founded_year')\n",
    "data = pd.concat([data,founded_year_dummies], axis=1)"
   ]
  },
  {
   "cell_type": "markdown",
   "metadata": {},
   "source": [
    "### Url Ending"
   ]
  },
  {
   "cell_type": "code",
   "execution_count": 28,
   "metadata": {
    "ExecuteTime": {
     "end_time": "2020-11-11T01:25:09.322976Z",
     "start_time": "2020-11-11T01:25:09.262576Z"
    }
   },
   "outputs": [],
   "source": [
    "url_dict = data.url_ending.value_counts().to_dict()"
   ]
  },
  {
   "cell_type": "code",
   "execution_count": 29,
   "metadata": {
    "ExecuteTime": {
     "end_time": "2020-11-11T01:25:09.336065Z",
     "start_time": "2020-11-11T01:25:09.330449Z"
    }
   },
   "outputs": [],
   "source": [
    "names_list = []\n",
    "\n",
    "for key,value in url_dict.items():\n",
    "    \n",
    "    if value >= 5:\n",
    "        names_list.append(key)\n",
    "    else:\n",
    "        pass"
   ]
  },
  {
   "cell_type": "code",
   "execution_count": 30,
   "metadata": {
    "ExecuteTime": {
     "end_time": "2020-11-11T01:25:09.381135Z",
     "start_time": "2020-11-11T01:25:09.339511Z"
    }
   },
   "outputs": [],
   "source": [
    "data.url_ending = data.url_ending.apply(lambda x: x if x in names_list else 'other')"
   ]
  },
  {
   "cell_type": "code",
   "execution_count": 31,
   "metadata": {
    "ExecuteTime": {
     "end_time": "2020-11-11T01:25:09.475267Z",
     "start_time": "2020-11-11T01:25:09.383530Z"
    }
   },
   "outputs": [],
   "source": [
    "url_ending_dummies = pd.get_dummies(data.url_ending, drop_first=True, prefix='url_ending')\n",
    "data = data.drop(columns = 'url_ending')\n",
    "data = pd.concat([data,url_ending_dummies], axis=1)"
   ]
  },
  {
   "cell_type": "markdown",
   "metadata": {},
   "source": [
    "# Dropping Columns"
   ]
  },
  {
   "cell_type": "code",
   "execution_count": 32,
   "metadata": {
    "ExecuteTime": {
     "end_time": "2020-11-11T01:25:09.549961Z",
     "start_time": "2020-11-11T01:25:09.478168Z"
    }
   },
   "outputs": [],
   "source": [
    "data = data.drop(columns=['homepage_url',\n",
    "                          'permalink',\n",
    "                          'name',\n",
    "                          'market',\n",
    "                          'region',\n",
    "                          'city',\n",
    "                          'post_ipo_equity',\n",
    "                          'post_ipo_debt',\n",
    "                          'secondary_market',\n",
    "                          'product_crowdfunding',\n",
    "                          'round_C',\n",
    "                          'round_D',\n",
    "                          'round_E',\n",
    "                          'round_F',\n",
    "                          'round_G',\n",
    "                          'round_H',\n",
    "                          'category_list',\n",
    "                          '&',\n",
    "                          '+',\n",
    "                          '7',\n",
    "                          'of',\n",
    "                          'on',\n",
    "                          'non',\n",
    "                          'qr',\n",
    "                          'q&a',\n",
    "                          'to',\n",
    "                          'things',\n",
    "                          'money',\n",
    "                          'moneymaking',\n",
    "                          'founded_at', \n",
    "                          'last_funding_at',\n",
    "                          'funding_rounds',\n",
    "                          'first_funding_at'\n",
    "                          \n",
    "])"
   ]
  },
  {
   "cell_type": "code",
   "execution_count": 33,
   "metadata": {},
   "outputs": [
    {
     "data": {
      "text/plain": [
       "['funding_total_usd',\n",
       " 'status',\n",
       " 'seed',\n",
       " 'venture',\n",
       " 'equity_crowdfunding',\n",
       " 'undisclosed',\n",
       " 'convertible_note',\n",
       " 'debt_financing',\n",
       " 'angel',\n",
       " 'grant',\n",
       " 'private_equity',\n",
       " 'round_A',\n",
       " 'round_B',\n",
       " '2.0',\n",
       " '3d',\n",
       " 'accessories',\n",
       " 'accounting',\n",
       " 'active',\n",
       " 'ad',\n",
       " 'adherence',\n",
       " 'adults',\n",
       " 'advanced',\n",
       " 'adventure',\n",
       " 'advertising',\n",
       " 'advice',\n",
       " 'aerospace',\n",
       " 'agent',\n",
       " 'agriculture',\n",
       " 'algorithms',\n",
       " 'all',\n",
       " 'alumni',\n",
       " 'analyt',\n",
       " 'analytics',\n",
       " 'and',\n",
       " 'android',\n",
       " 'angels',\n",
       " 'animal',\n",
       " 'apis',\n",
       " 'app',\n",
       " 'application',\n",
       " 'applications',\n",
       " 'apps',\n",
       " 'aquaculture',\n",
       " 'architecture',\n",
       " 'archiving',\n",
       " 'art',\n",
       " 'artificial',\n",
       " 'artists',\n",
       " 'assessment',\n",
       " 'asset',\n",
       " 'assisitive',\n",
       " 'auctions',\n",
       " 'audio',\n",
       " 'augmented',\n",
       " 'auto',\n",
       " 'automated',\n",
       " 'automation',\n",
       " 'automotive',\n",
       " 'b2b',\n",
       " 'babies',\n",
       " 'baby',\n",
       " 'bananas',\n",
       " 'banking',\n",
       " 'based',\n",
       " 'batteries',\n",
       " 'beauty',\n",
       " 'beer',\n",
       " 'behavior',\n",
       " 'benefits',\n",
       " 'bicycles',\n",
       " 'big',\n",
       " 'billing',\n",
       " 'bio-pharm',\n",
       " 'bioinformatics',\n",
       " 'biology',\n",
       " 'biometrics',\n",
       " 'biotechnology',\n",
       " 'bitcoin',\n",
       " 'blogging',\n",
       " 'boating',\n",
       " 'bookmarking',\n",
       " 'boomers',\n",
       " 'bpo',\n",
       " 'brand',\n",
       " 'branding',\n",
       " 'breakthrough',\n",
       " 'brewing',\n",
       " 'bridging',\n",
       " 'broadcasting',\n",
       " 'brokers',\n",
       " 'browser',\n",
       " 'browsers',\n",
       " 'builders',\n",
       " 'building',\n",
       " 'business',\n",
       " 'businesses',\n",
       " 'buying',\n",
       " 'cable',\n",
       " 'cad',\n",
       " 'call',\n",
       " 'campuses',\n",
       " 'capital',\n",
       " 'capture',\n",
       " 'carbon',\n",
       " 'card',\n",
       " 'cards',\n",
       " 'care',\n",
       " 'career',\n",
       " 'cars',\n",
       " 'cause',\n",
       " 'celebrity',\n",
       " 'center',\n",
       " 'centers',\n",
       " 'certification',\n",
       " 'chain',\n",
       " 'charity',\n",
       " 'charter',\n",
       " 'chat',\n",
       " 'chemicals',\n",
       " 'child',\n",
       " 'children',\n",
       " 'citizens',\n",
       " 'civil',\n",
       " 'classifieds',\n",
       " 'clean',\n",
       " 'clinical',\n",
       " 'cloud',\n",
       " 'cloud-based',\n",
       " 'cms',\n",
       " 'codes',\n",
       " 'coffee',\n",
       " 'collaboration',\n",
       " 'collaborative',\n",
       " 'collectibles',\n",
       " 'college',\n",
       " 'colleges',\n",
       " 'comics',\n",
       " 'commerce',\n",
       " 'commercial',\n",
       " 'commodities',\n",
       " 'communications',\n",
       " 'communities',\n",
       " 'community',\n",
       " 'companies',\n",
       " 'company',\n",
       " 'comparison',\n",
       " 'compliance',\n",
       " 'computer',\n",
       " 'computers',\n",
       " 'computing',\n",
       " 'concerts',\n",
       " 'conferencing',\n",
       " 'console',\n",
       " 'construction',\n",
       " 'consulting',\n",
       " 'consumer',\n",
       " 'consumers',\n",
       " 'consumption',\n",
       " 'contact',\n",
       " 'content',\n",
       " 'contests',\n",
       " 'continuing',\n",
       " 'cooking',\n",
       " 'corporate',\n",
       " 'cosmetic',\n",
       " 'cosmetics',\n",
       " 'coupons',\n",
       " 'courier',\n",
       " 'coworking',\n",
       " 'craft',\n",
       " 'craigslist',\n",
       " 'creative',\n",
       " 'creators',\n",
       " 'credit',\n",
       " 'crm',\n",
       " 'crowdfunding',\n",
       " 'crowdsourcing',\n",
       " 'curated',\n",
       " 'currency',\n",
       " 'custom',\n",
       " 'customer',\n",
       " 'customization',\n",
       " 'cyber',\n",
       " 'cybersecurity',\n",
       " 'data',\n",
       " 'databases',\n",
       " 'dating',\n",
       " 'decor',\n",
       " 'deep',\n",
       " 'defense',\n",
       " 'delivery',\n",
       " 'demand',\n",
       " 'demographies',\n",
       " 'dental',\n",
       " 'design',\n",
       " 'designers',\n",
       " 'detection',\n",
       " 'developer',\n",
       " 'development',\n",
       " 'devices',\n",
       " 'diabetes',\n",
       " 'diagnostics',\n",
       " 'dietary',\n",
       " 'digital',\n",
       " 'direct',\n",
       " 'discounts',\n",
       " 'discovery',\n",
       " 'displays',\n",
       " 'disruptive',\n",
       " 'distributed',\n",
       " 'distribution',\n",
       " 'distributors',\n",
       " 'diy',\n",
       " 'doctors',\n",
       " 'document',\n",
       " 'dod/military',\n",
       " 'domains',\n",
       " 'domination',\n",
       " 'drones',\n",
       " 'e-books',\n",
       " 'e-commerce',\n",
       " 'early',\n",
       " 'early-stage',\n",
       " 'ebooks',\n",
       " 'eda',\n",
       " 'ediscovery',\n",
       " 'editing',\n",
       " 'education',\n",
       " 'educational',\n",
       " 'efficiency',\n",
       " 'elder',\n",
       " 'electric',\n",
       " 'electrical',\n",
       " 'electronic',\n",
       " 'electronics',\n",
       " 'email',\n",
       " 'embedded',\n",
       " 'emergency&health',\n",
       " 'emerging',\n",
       " 'employer',\n",
       " 'employment',\n",
       " 'energies',\n",
       " 'energy',\n",
       " 'enforcement',\n",
       " 'engineering',\n",
       " 'engineers',\n",
       " 'english-speaking',\n",
       " 'enterprise',\n",
       " 'enterprises',\n",
       " 'entertainment',\n",
       " 'entrepreneur',\n",
       " 'environmental',\n",
       " 'equipment',\n",
       " 'estate',\n",
       " 'estimation',\n",
       " 'event',\n",
       " 'events',\n",
       " 'exchanges',\n",
       " 'exercise',\n",
       " 'expanding',\n",
       " 'experience',\n",
       " 'extensions',\n",
       " 'eyewear',\n",
       " 'face',\n",
       " 'facebook',\n",
       " 'families',\n",
       " 'fantasy',\n",
       " 'farmers',\n",
       " 'farming',\n",
       " 'fashion',\n",
       " 'feed',\n",
       " 'field',\n",
       " 'file',\n",
       " 'film',\n",
       " 'filtering',\n",
       " 'finance',\n",
       " 'financial',\n",
       " 'firms',\n",
       " 'fitness',\n",
       " 'flash',\n",
       " 'fleet',\n",
       " 'flowers',\n",
       " 'food',\n",
       " 'foods',\n",
       " 'for',\n",
       " 'forums',\n",
       " 'franchises',\n",
       " 'fraud',\n",
       " 'freelancers',\n",
       " 'freemium',\n",
       " 'freetoplay',\n",
       " 'fuels',\n",
       " 'fundraising',\n",
       " 'funds',\n",
       " 'funeral',\n",
       " 'gadget',\n",
       " 'gambling',\n",
       " 'game',\n",
       " 'games',\n",
       " 'gamification',\n",
       " 'gaming',\n",
       " 'garden',\n",
       " 'gas',\n",
       " 'general',\n",
       " 'generation',\n",
       " 'genetic',\n",
       " 'geospatial',\n",
       " 'gift',\n",
       " 'glass',\n",
       " 'globally',\n",
       " 'gold',\n",
       " 'golf',\n",
       " 'good',\n",
       " 'goods',\n",
       " 'google',\n",
       " 'governance',\n",
       " 'government',\n",
       " 'governments',\n",
       " 'gps',\n",
       " 'graph',\n",
       " 'graphics',\n",
       " 'green',\n",
       " 'grid',\n",
       " 'groceries',\n",
       " 'group',\n",
       " 'guide',\n",
       " 'guides',\n",
       " 'handmade',\n",
       " 'hardware',\n",
       " 'health',\n",
       " 'healthcare',\n",
       " 'heavy',\n",
       " 'hedge',\n",
       " 'high',\n",
       " 'hip',\n",
       " 'home',\n",
       " 'homeland',\n",
       " 'homeless',\n",
       " 'hop',\n",
       " 'hospitality',\n",
       " 'hospitals',\n",
       " 'hosting',\n",
       " 'hotels',\n",
       " 'housing',\n",
       " 'human',\n",
       " 'humanitarian',\n",
       " 'hunting',\n",
       " 'iaas',\n",
       " 'ict',\n",
       " 'identity',\n",
       " 'image',\n",
       " 'impact',\n",
       " 'incentives',\n",
       " 'incubators',\n",
       " 'independent',\n",
       " 'indoor',\n",
       " 'industrial',\n",
       " 'industries',\n",
       " 'industry',\n",
       " 'information',\n",
       " 'infrastructure',\n",
       " 'innovation',\n",
       " 'insurance',\n",
       " 'integration',\n",
       " 'intellectual',\n",
       " 'intelligence',\n",
       " 'intelligent',\n",
       " 'interaction',\n",
       " 'interest',\n",
       " 'interface',\n",
       " 'interior',\n",
       " 'internet',\n",
       " 'investing',\n",
       " 'investment',\n",
       " 'investors',\n",
       " 'ios',\n",
       " 'ipad',\n",
       " 'iphone',\n",
       " 'ipod',\n",
       " 'it',\n",
       " 'jewelry',\n",
       " 'journalism',\n",
       " 'k-12',\n",
       " 'kids',\n",
       " 'killers',\n",
       " 'kinect',\n",
       " 'kiosk',\n",
       " 'knowledge',\n",
       " 'labels',\n",
       " 'labor',\n",
       " 'landsacping',\n",
       " 'language',\n",
       " 'lasers',\n",
       " 'law',\n",
       " 'lead',\n",
       " 'learning',\n",
       " 'leds',\n",
       " 'legal',\n",
       " 'leisure',\n",
       " 'lending',\n",
       " 'licensing',\n",
       " 'life',\n",
       " 'lifestyle',\n",
       " 'lighting',\n",
       " 'limousines',\n",
       " 'linux',\n",
       " 'local',\n",
       " 'location',\n",
       " 'logistics',\n",
       " 'lotteries',\n",
       " 'loyalty',\n",
       " 'm2m',\n",
       " 'mac',\n",
       " 'machine',\n",
       " 'management',\n",
       " 'manufacturing',\n",
       " 'maps',\n",
       " 'marijuana',\n",
       " 'marketing',\n",
       " 'marketplaces',\n",
       " 'markets',\n",
       " 'mass',\n",
       " 'match-making',\n",
       " 'material',\n",
       " 'materials',\n",
       " 'measurement',\n",
       " 'mechanical',\n",
       " 'mechanics',\n",
       " 'media',\n",
       " 'medical',\n",
       " 'medication',\n",
       " 'medium',\n",
       " 'meeting',\n",
       " 'mens',\n",
       " 'messaging',\n",
       " 'mhealth',\n",
       " 'microblogging',\n",
       " 'minerals',\n",
       " 'mining',\n",
       " 'mmo',\n",
       " 'mob',\n",
       " 'mobile',\n",
       " 'mobility',\n",
       " 'models',\n",
       " 'monetization',\n",
       " 'monitoring',\n",
       " 'motion',\n",
       " 'multi-level',\n",
       " 'music',\n",
       " 'nanotechnology',\n",
       " 'natural',\n",
       " 'navigation',\n",
       " 'network',\n",
       " 'networking',\n",
       " 'networks',\n",
       " 'neuroscience',\n",
       " 'new',\n",
       " 'news',\n",
       " 'newsletters',\n",
       " 'nfc',\n",
       " 'nightclubs',\n",
       " 'nightlife',\n",
       " 'nonprofits',\n",
       " 'nutrition',\n",
       " 'office',\n",
       " 'offline',\n",
       " 'oil',\n",
       " 'online',\n",
       " 'open',\n",
       " 'operating',\n",
       " 'opinion',\n",
       " 'opinions',\n",
       " 'optimization',\n",
       " 'organic',\n",
       " 'outdoor',\n",
       " 'outdoors',\n",
       " 'outsourci',\n",
       " 'outsourcing',\n",
       " 'owners',\n",
       " 'p2p',\n",
       " 'paas',\n",
       " 'parenting',\n",
       " 'parking',\n",
       " 'patients',\n",
       " 'payments',\n",
       " 'pc',\n",
       " 'peer-to-peer',\n",
       " 'performance',\n",
       " 'personal',\n",
       " 'personalization',\n",
       " 'pets',\n",
       " 'pharmaceuticals',\n",
       " 'phone',\n",
       " 'photo',\n",
       " 'photography',\n",
       " 'physicians',\n",
       " 'planning',\n",
       " 'platform',\n",
       " 'platforms',\n",
       " 'plumbers',\n",
       " 'point',\n",
       " 'politics',\n",
       " 'polling',\n",
       " 'portals',\n",
       " 'positioning',\n",
       " 'postal',\n",
       " 'predictive',\n",
       " 'presence',\n",
       " 'presentations',\n",
       " 'price',\n",
       " 'printing',\n",
       " 'privacy',\n",
       " 'private',\n",
       " 'processing',\n",
       " 'procurement',\n",
       " 'product',\n",
       " 'production',\n",
       " 'productivity',\n",
       " 'products',\n",
       " 'professional',\n",
       " 'professionals',\n",
       " 'profit',\n",
       " 'programs',\n",
       " 'project',\n",
       " 'promotional',\n",
       " 'property',\n",
       " 'providers',\n",
       " 'proximity',\n",
       " 'psychology',\n",
       " 'public',\n",
       " 'publishing',\n",
       " 'purchasing',\n",
       " 'purification',\n",
       " 'quantified',\n",
       " 'quantitative',\n",
       " 'quoting',\n",
       " 'radical',\n",
       " 'radio',\n",
       " 'rapidly',\n",
       " 'reading',\n",
       " 'real',\n",
       " 'reality',\n",
       " 'realtors',\n",
       " 'recipes',\n",
       " 'recognition',\n",
       " 'recommendations',\n",
       " 'records',\n",
       " 'recreation',\n",
       " 'recruiting',\n",
       " 'recycling',\n",
       " 'registrars',\n",
       " 'relations',\n",
       " 'religion',\n",
       " 'renewable',\n",
       " 'renovation',\n",
       " 'rental',\n",
       " 'rentals',\n",
       " 'reputation',\n",
       " 'research',\n",
       " 'reservations',\n",
       " 'residential',\n",
       " 'resource',\n",
       " 'resources',\n",
       " 'restaurants',\n",
       " 'retail',\n",
       " 'retirement',\n",
       " 'reviews',\n",
       " 'rfid',\n",
       " 'rights',\n",
       " 'rim',\n",
       " 'risk',\n",
       " 'robotics',\n",
       " 'rural',\n",
       " 'saas',\n",
       " 'safety',\n",
       " 'sale',\n",
       " 'sales',\n",
       " 'scheduling',\n",
       " 'schools',\n",
       " 'science',\n",
       " 'sciences',\n",
       " 'search',\n",
       " 'security',\n",
       " 'self',\n",
       " 'semantic',\n",
       " 'semiconductor',\n",
       " 'semiconductors',\n",
       " 'senior',\n",
       " 'sensors',\n",
       " 'seo',\n",
       " 'serious',\n",
       " 'service',\n",
       " 'services',\n",
       " 'sex',\n",
       " 'shared',\n",
       " 'sharing',\n",
       " 'shelter',\n",
       " 'shipping',\n",
       " 'shoes',\n",
       " 'shopping',\n",
       " 'signage',\n",
       " 'simulation',\n",
       " 'skate',\n",
       " 'skill',\n",
       " 'skis',\n",
       " 'small',\n",
       " 'smart',\n",
       " 'sms',\n",
       " 'sns',\n",
       " 'soccer',\n",
       " 'social',\n",
       " 'software',\n",
       " 'solar',\n",
       " 'solutions',\n",
       " 'source',\n",
       " 'space',\n",
       " 'spam',\n",
       " 'spas',\n",
       " 'specialty',\n",
       " 'specific',\n",
       " 'speech',\n",
       " 'spirits',\n",
       " 'sponsorship',\n",
       " 'sporting',\n",
       " 'sports',\n",
       " 'staffing',\n",
       " 'stage',\n",
       " 'startups',\n",
       " 'stock',\n",
       " 'storage',\n",
       " 'stores',\n",
       " 'streaming',\n",
       " 'students',\n",
       " 'subscription',\n",
       " 'sunglasses',\n",
       " 'supplements',\n",
       " 'supply',\n",
       " 'support',\n",
       " 'surfing',\n",
       " 'surgery',\n",
       " 'surveys',\n",
       " 'sustainability',\n",
       " 'swimming',\n",
       " 'synchronization',\n",
       " 'syndication',\n",
       " 'synthetic',\n",
       " 'systems',\n",
       " 'tablets',\n",
       " 'targeting',\n",
       " 'task',\n",
       " 'taxis',\n",
       " 'tea',\n",
       " 'teachers',\n",
       " 'tech',\n",
       " 'technical',\n",
       " 'technologies',\n",
       " 'technology',\n",
       " 'teenagers',\n",
       " 'telecommunications',\n",
       " 'telephony',\n",
       " 'television',\n",
       " 'test',\n",
       " 'testing',\n",
       " 'text',\n",
       " 'textbooks',\n",
       " 'textiles',\n",
       " 'theatre',\n",
       " 'therapeutics',\n",
       " 'ticketing',\n",
       " 'time',\n",
       " 'timeshares',\n",
       " 'tobacco',\n",
       " 'tools',\n",
       " 'touch',\n",
       " 'tourism',\n",
       " 'tournaments',\n",
       " 'toys',\n",
       " 'tracking',\n",
       " 'trading',\n",
       " 'training',\n",
       " 'transaction',\n",
       " 'transfer',\n",
       " 'translation',\n",
       " 'transportation',\n",
       " 'travel',\n",
       " 'trials',\n",
       " 'trusted',\n",
       " 'tutoring',\n",
       " 'tv',\n",
       " 'twin-tip',\n",
       " 'twitter',\n",
       " 'uhb',\n",
       " 'underserved',\n",
       " 'unifed',\n",
       " 'universities',\n",
       " 'university',\n",
       " 'usability',\n",
       " 'user',\n",
       " 'utilities',\n",
       " 'uv',\n",
       " 'vacation',\n",
       " 'vehicles',\n",
       " 'venture',\n",
       " 'ventures',\n",
       " 'venues',\n",
       " 'vertical',\n",
       " 'video',\n",
       " 'virtual',\n",
       " 'virtualization',\n",
       " 'vision',\n",
       " 'visual',\n",
       " 'visualization',\n",
       " 'voip',\n",
       " 'waste',\n",
       " 'water',\n",
       " 'wealth',\n",
       " 'wear',\n",
       " 'web',\n",
       " 'webos',\n",
       " 'weddings',\n",
       " 'wellness',\n",
       " 'wholesale',\n",
       " 'wind',\n",
       " 'windows',\n",
       " 'wine',\n",
       " 'wireless',\n",
       " 'women',\n",
       " 'workforces',\n",
       " 'world',\n",
       " 'worlds',\n",
       " 'worldwide',\n",
       " 'writers',\n",
       " 'young',\n",
       " 'days_from_founding_to_funding',\n",
       " 'time_between_first_and_last_funding',\n",
       " 'month_Apr',\n",
       " 'month_Aug',\n",
       " 'month_Dec',\n",
       " 'month_Feb',\n",
       " 'month_Jul',\n",
       " 'month_Jun',\n",
       " 'month_Mar',\n",
       " 'month_May',\n",
       " 'month_Nov',\n",
       " 'month_Oct',\n",
       " 'month_Sep',\n",
       " 'founded_quarter_Q2',\n",
       " 'founded_quarter_Q3',\n",
       " 'founded_quarter_Q4',\n",
       " 'country_code_USA',\n",
       " 'state_code_AK',\n",
       " 'state_code_AL',\n",
       " 'state_code_AR',\n",
       " 'state_code_AZ',\n",
       " 'state_code_BC',\n",
       " 'state_code_CA',\n",
       " 'state_code_CO',\n",
       " 'state_code_CT',\n",
       " 'state_code_DC',\n",
       " 'state_code_DE',\n",
       " 'state_code_FL',\n",
       " 'state_code_GA',\n",
       " 'state_code_HI',\n",
       " 'state_code_IA',\n",
       " 'state_code_ID',\n",
       " 'state_code_IL',\n",
       " 'state_code_IN',\n",
       " 'state_code_KS',\n",
       " 'state_code_KY',\n",
       " 'state_code_LA',\n",
       " 'state_code_MA',\n",
       " 'state_code_MB',\n",
       " 'state_code_MD',\n",
       " 'state_code_ME',\n",
       " 'state_code_MI',\n",
       " 'state_code_MN',\n",
       " 'state_code_MO',\n",
       " 'state_code_MS',\n",
       " 'state_code_MT',\n",
       " 'state_code_NB',\n",
       " 'state_code_NC',\n",
       " 'state_code_ND',\n",
       " 'state_code_NE',\n",
       " 'state_code_NH',\n",
       " 'state_code_NJ',\n",
       " 'state_code_NL',\n",
       " 'state_code_NM',\n",
       " 'state_code_NS',\n",
       " 'state_code_NV',\n",
       " 'state_code_NY',\n",
       " 'state_code_OH',\n",
       " 'state_code_OK',\n",
       " 'state_code_ON',\n",
       " 'state_code_OR',\n",
       " 'state_code_PA',\n",
       " 'state_code_PE',\n",
       " 'state_code_QC',\n",
       " 'state_code_RI',\n",
       " 'state_code_SC',\n",
       " 'state_code_SD',\n",
       " 'state_code_SK',\n",
       " 'state_code_TN',\n",
       " 'state_code_TX',\n",
       " 'state_code_UT',\n",
       " 'state_code_VA',\n",
       " 'state_code_VT',\n",
       " 'state_code_WA',\n",
       " 'state_code_WI',\n",
       " 'state_code_WV',\n",
       " 'state_code_WY',\n",
       " 'founded_year_1906',\n",
       " 'founded_year_1910',\n",
       " 'founded_year_1911',\n",
       " 'founded_year_1912',\n",
       " 'founded_year_1913',\n",
       " 'founded_year_1914',\n",
       " 'founded_year_1917',\n",
       " 'founded_year_1918',\n",
       " 'founded_year_1919',\n",
       " 'founded_year_1920',\n",
       " 'founded_year_1921',\n",
       " 'founded_year_1922',\n",
       " 'founded_year_1923',\n",
       " 'founded_year_1924',\n",
       " 'founded_year_1925',\n",
       " 'founded_year_1928',\n",
       " 'founded_year_1929',\n",
       " 'founded_year_1930',\n",
       " 'founded_year_1933',\n",
       " 'founded_year_1934',\n",
       " 'founded_year_1937',\n",
       " 'founded_year_1939',\n",
       " 'founded_year_1941',\n",
       " 'founded_year_1944',\n",
       " 'founded_year_1945',\n",
       " 'founded_year_1947',\n",
       " 'founded_year_1948',\n",
       " 'founded_year_1949',\n",
       " 'founded_year_1950',\n",
       " 'founded_year_1952',\n",
       " 'founded_year_1953',\n",
       " 'founded_year_1954',\n",
       " 'founded_year_1955',\n",
       " 'founded_year_1956',\n",
       " 'founded_year_1958',\n",
       " 'founded_year_1959',\n",
       " 'founded_year_1960',\n",
       " 'founded_year_1961',\n",
       " 'founded_year_1962',\n",
       " 'founded_year_1963',\n",
       " 'founded_year_1964',\n",
       " 'founded_year_1965',\n",
       " 'founded_year_1966',\n",
       " 'founded_year_1967',\n",
       " 'founded_year_1968',\n",
       " 'founded_year_1969',\n",
       " 'founded_year_1970',\n",
       " 'founded_year_1971',\n",
       " 'founded_year_1972',\n",
       " 'founded_year_1973',\n",
       " 'founded_year_1974',\n",
       " 'founded_year_1975',\n",
       " 'founded_year_1976',\n",
       " 'founded_year_1977',\n",
       " 'founded_year_1978',\n",
       " 'founded_year_1979',\n",
       " 'founded_year_1980',\n",
       " 'founded_year_1981',\n",
       " 'founded_year_1982',\n",
       " 'founded_year_1983',\n",
       " 'founded_year_1984',\n",
       " 'founded_year_1985',\n",
       " 'founded_year_1986',\n",
       " 'founded_year_1987',\n",
       " 'founded_year_1988',\n",
       " 'founded_year_1989',\n",
       " 'founded_year_1990',\n",
       " 'founded_year_1991',\n",
       " 'founded_year_1992',\n",
       " 'founded_year_1993',\n",
       " 'founded_year_1994',\n",
       " 'founded_year_1995',\n",
       " 'founded_year_1996',\n",
       " 'founded_year_1997',\n",
       " 'founded_year_1998',\n",
       " 'founded_year_1999',\n",
       " 'founded_year_2000',\n",
       " 'founded_year_2001',\n",
       " 'founded_year_2002',\n",
       " 'founded_year_2003',\n",
       " 'founded_year_2004',\n",
       " 'founded_year_2005',\n",
       " 'founded_year_2006',\n",
       " 'founded_year_2007',\n",
       " 'founded_year_2008',\n",
       " 'founded_year_2009',\n",
       " 'founded_year_2010',\n",
       " 'founded_year_2011',\n",
       " 'founded_year_2012',\n",
       " 'founded_year_2013',\n",
       " 'founded_year_2014',\n",
       " 'url_ending_aspx',\n",
       " 'url_ending_au',\n",
       " 'url_ending_biz',\n",
       " 'url_ending_ca',\n",
       " 'url_ending_cc',\n",
       " 'url_ending_co',\n",
       " 'url_ending_com',\n",
       " 'url_ending_de',\n",
       " 'url_ending_edu',\n",
       " 'url_ending_es',\n",
       " 'url_ending_fm',\n",
       " 'url_ending_htm',\n",
       " 'url_ending_html',\n",
       " 'url_ending_im',\n",
       " 'url_ending_in',\n",
       " 'url_ending_info',\n",
       " 'url_ending_io',\n",
       " 'url_ending_is',\n",
       " 'url_ending_it',\n",
       " 'url_ending_la',\n",
       " 'url_ending_ly',\n",
       " 'url_ending_me',\n",
       " 'url_ending_mobi',\n",
       " 'url_ending_net',\n",
       " 'url_ending_org',\n",
       " 'url_ending_other',\n",
       " 'url_ending_php',\n",
       " 'url_ending_se',\n",
       " 'url_ending_sh',\n",
       " 'url_ending_to',\n",
       " 'url_ending_tv',\n",
       " 'url_ending_uk',\n",
       " 'url_ending_us',\n",
       " 'url_ending_ws']"
      ]
     },
     "execution_count": 33,
     "metadata": {},
     "output_type": "execute_result"
    }
   ],
   "source": [
    "data.columns.to_list()"
   ]
  },
  {
   "cell_type": "markdown",
   "metadata": {},
   "source": [
    "# DataFrame to CSV"
   ]
  },
  {
   "cell_type": "code",
   "execution_count": 34,
   "metadata": {
    "ExecuteTime": {
     "end_time": "2020-11-11T01:25:09.561671Z",
     "start_time": "2020-11-11T01:25:09.552203Z"
    }
   },
   "outputs": [],
   "source": [
    "data = data.loc[data['funding_total_usd'] != ' -   ']"
   ]
  },
  {
   "cell_type": "code",
   "execution_count": 35,
   "metadata": {},
   "outputs": [],
   "source": [
    "status = []\n",
    "\n",
    "for val in data['status']:\n",
    "    if val == 'acquired':\n",
    "        status.append(1)\n",
    "    elif val == 'operating':\n",
    "        status.append(0)\n",
    "    else:\n",
    "        status.append(0)\n",
    "data['target'] = status        \n",
    "\n",
    "data.drop(['status'], axis=1, inplace=True)"
   ]
  },
  {
   "cell_type": "code",
   "execution_count": 36,
   "metadata": {},
   "outputs": [],
   "source": [
    "data.funding_total_usd = data['funding_total_usd'].astype(int)"
   ]
  },
  {
   "cell_type": "code",
   "execution_count": 38,
   "metadata": {
    "ExecuteTime": {
     "end_time": "2020-11-11T01:25:56.569066Z",
     "start_time": "2020-11-11T01:25:09.569525Z"
    }
   },
   "outputs": [],
   "source": [
    "data.to_csv('final_startup_data.csv')"
   ]
  },
  {
   "cell_type": "code",
   "execution_count": 39,
   "metadata": {},
   "outputs": [
    {
     "data": {
      "text/plain": [
       "0    17845\n",
       "1     2125\n",
       "Name: target, dtype: int64"
      ]
     },
     "execution_count": 39,
     "metadata": {},
     "output_type": "execute_result"
    }
   ],
   "source": [
    "data.target.value_counts()"
   ]
  },
  {
   "cell_type": "code",
   "execution_count": null,
   "metadata": {},
   "outputs": [],
   "source": []
  }
 ],
 "metadata": {
  "kernelspec": {
   "display_name": "learn-env",
   "language": "python",
   "name": "learn-env"
  },
  "language_info": {
   "codemirror_mode": {
    "name": "ipython",
    "version": 3
   },
   "file_extension": ".py",
   "mimetype": "text/x-python",
   "name": "python",
   "nbconvert_exporter": "python",
   "pygments_lexer": "ipython3",
   "version": "3.6.10"
  },
  "toc": {
   "base_numbering": 1,
   "nav_menu": {},
   "number_sections": true,
   "sideBar": true,
   "skip_h1_title": false,
   "title_cell": "Table of Contents",
   "title_sidebar": "Contents",
   "toc_cell": false,
   "toc_position": {},
   "toc_section_display": true,
   "toc_window_display": false
  },
  "varInspector": {
   "cols": {
    "lenName": 16,
    "lenType": 16,
    "lenVar": 40
   },
   "kernels_config": {
    "python": {
     "delete_cmd_postfix": "",
     "delete_cmd_prefix": "del ",
     "library": "var_list.py",
     "varRefreshCmd": "print(var_dic_list())"
    },
    "r": {
     "delete_cmd_postfix": ") ",
     "delete_cmd_prefix": "rm(",
     "library": "var_list.r",
     "varRefreshCmd": "cat(var_dic_list()) "
    }
   },
   "types_to_exclude": [
    "module",
    "function",
    "builtin_function_or_method",
    "instance",
    "_Feature"
   ],
   "window_display": false
  }
 },
 "nbformat": 4,
 "nbformat_minor": 4
}
