{
 "cells": [
  {
   "cell_type": "markdown",
   "metadata": {},
   "source": [
    "# Imports"
   ]
  },
  {
   "cell_type": "code",
   "execution_count": null,
   "metadata": {},
   "outputs": [],
   "source": [
    "import pandas as pd\n",
    "pd.set_option(\"display.max_columns\", 100)\n",
    "\n",
    "import numpy as np"
   ]
  },
  {
   "cell_type": "code",
   "execution_count": 1,
   "metadata": {
    "ExecuteTime": {
     "end_time": "2020-11-08T17:11:45.499791Z",
     "start_time": "2020-11-08T17:11:44.015329Z"
    }
   },
   "outputs": [],
   "source": [
    "%store -r df"
   ]
  },
  {
   "cell_type": "markdown",
   "metadata": {},
   "source": [
    "Checking to make sure that df is just for NY"
   ]
  },
  {
   "cell_type": "code",
   "execution_count": 4,
   "metadata": {
    "ExecuteTime": {
     "end_time": "2020-11-08T17:16:10.762688Z",
     "start_time": "2020-11-08T17:16:10.754555Z"
    }
   },
   "outputs": [
    {
     "data": {
      "text/plain": [
       "(160817, 49)"
      ]
     },
     "execution_count": 4,
     "metadata": {},
     "output_type": "execute_result"
    }
   ],
   "source": [
    "df.shape"
   ]
  },
  {
   "cell_type": "markdown",
   "metadata": {},
   "source": [
    "# Response Variable"
   ]
  },
  {
   "cell_type": "markdown",
   "metadata": {},
   "source": [
    "**Severity:** Shows the severity of the accident, a number between 1 and 4, where 1 indicates the least impact on traffic (i.e., short delay as a result of the accident) and 4 indicates a significant impact on traffic (i.e., long delay)"
   ]
  },
  {
   "cell_type": "markdown",
   "metadata": {},
   "source": [
    "# Explanatory Variables"
   ]
  },
  {
   "cell_type": "markdown",
   "metadata": {},
   "source": [
    "**ID:** This is a unique identifier of the accident record\n",
    "\n",
    "**Source:** Indicates source of the accident report (i.e. the API which reported the accident.)\n",
    "\n",
    "**TMC:** A traffic accident may have a Traffic Message Channel (TMC) code which provides more detailed description of the event.\n",
    "\n",
    "**Start_Time:** Shows start time of the accident in local time zone\n",
    "\n",
    "**End_Time:** Shows end time of the accident in local time zone. End time here refers to when the impact of accident on traffic flow was dismissed\n",
    "\n",
    "**Start_Lat:** Shows latitude in GPS coordinate of the start point\n",
    "\n",
    "**Start_Lng:** Shows longitude in GPS coordinate of the start point\n",
    "\n",
    "**End_Lat:** Shows latitude in GPS coordinate of the end point\n",
    "\n",
    "**End_Lng:** Shows longitude in GPS coordinate of the end point\n",
    "\n",
    "**Distance(mi):** The length of the road extent affected by the accident\n",
    "\n",
    "**Description:** Shows natural language description of the accident\n",
    "\n",
    "**Number:** Shows the street number in address field\n",
    "\n",
    "**Street:** Shows the street name in address field\n",
    "\n",
    "**Side:** Shows the relative side of the street (Right/Left) in address field\n",
    "\n",
    "**City:** Shows the city in address field\n",
    "\n",
    "**County:** Shows the county in address field\n",
    "\n",
    "**State:** Shows the state in address field\n",
    "\n",
    "**Zipcode:** Shows the zipcode in address field\n",
    "\n",
    "**Country:** Shows the country in address field\n",
    "\n",
    "**Timezone:** Shows timezone based on the location of the accident (eastern, central, etc.)\n",
    "\n",
    "**Airport_Code:** Denotes an airport-based weather station which is the closest one to location of the accident\n",
    "\n",
    "**Weather_Timestamp:** Shows the time-stamp of weather observation record (in local time)\n",
    "\n",
    "**Temperature(F):** Shows the temperature (in Fahrenheit)\n",
    "\n",
    "**Wind_Chill(F):** \tShows the wind chill (in Fahrenheit)\n",
    "\n",
    "**Humidity(%):** Shows the humidity (in percentage)\n",
    "\n",
    "**Pressure(in):** Shows the air pressure (in inches)\n",
    "\n",
    "**Visibility(mi):** Shows visibility (in miles)\n",
    "\n",
    "**Wind_Direction:** Shows wind direction\n",
    "\n",
    "**Wind_Speed(mph):** Shows wind speed (in miles per hour)\n",
    "\n",
    "**Precipitation(in):** Shows precipitation amount in inches, if there is any\n",
    "\n",
    "**Weather_Condition:** Shows the weather condition (rain, snow, thunderstorm, fog, etc.)\n",
    "\n",
    "**Amenity:** A POI annotation which indicates presence of amenity in a nearby location\n",
    "\n",
    "**Bump:** A POI annotation which indicates presence of speed bump or hump in a nearby location\n",
    "\n",
    "**Crossing:** A POI annotation which indicates presence of crossing in a nearby location\n",
    "\n",
    "**Give_Way:** A POI annotation which indicates presence of give_way in a nearby location\n",
    "\n",
    "**Junction:** A POI annotation which indicates presence of junction in a nearby location\n",
    "\n",
    "**No_Exit:** A POI annotation which indicates presence of no_exit in a nearby location\n",
    "\n",
    "**Railway:** A POI annotation which indicates presence of railway in a nearby location\n",
    "\n",
    "**Roundabout:** A POI annotation which indicates presence of roundabout in a nearby location\n",
    "\n",
    "**Station:** A POI annotation which indicates presence of station in a nearby location\n",
    "\n",
    "**Stop:** A POI annotation which indicates presence of stop in a nearby location\n",
    "\n",
    "**Traffic_Calming:** A POI annotation which indicates presence of traffic_calming in a nearby location\n",
    "\n",
    "**Traffic_Signal:** A POI annotation which indicates presence of traffic_signal in a nearby location\n",
    "\n",
    "**Turning_Loop:** A POI annotation which indicates presence of turning_loop in a nearby location\n",
    "\n",
    "**Sunrise_Sunset:** Shows the period of day (i.e. day or night) based on sunrise/sunset\n",
    "\n",
    "**Civil_Twilight:** Shows the period of day (i.e. day or night) based on civil twilight\n",
    "\n",
    "**Nautical_Twilight:** Shows the period of day (i.e. day or night) based on nautical twilight\n",
    "\n",
    "**Astronomical_Twilight\t:** Shows the period of day (i.e. day or night) based on astronomical twilight"
   ]
  }
 ],
 "metadata": {
  "kernelspec": {
   "display_name": "learn-env",
   "language": "python",
   "name": "learn-env"
  },
  "language_info": {
   "codemirror_mode": {
    "name": "ipython",
    "version": 3
   },
   "file_extension": ".py",
   "mimetype": "text/x-python",
   "name": "python",
   "nbconvert_exporter": "python",
   "pygments_lexer": "ipython3",
   "version": "3.6.9"
  },
  "toc": {
   "base_numbering": 1,
   "nav_menu": {},
   "number_sections": true,
   "sideBar": true,
   "skip_h1_title": false,
   "title_cell": "Table of Contents",
   "title_sidebar": "Contents",
   "toc_cell": false,
   "toc_position": {},
   "toc_section_display": true,
   "toc_window_display": false
  },
  "varInspector": {
   "cols": {
    "lenName": 16,
    "lenType": 16,
    "lenVar": 40
   },
   "kernels_config": {
    "python": {
     "delete_cmd_postfix": "",
     "delete_cmd_prefix": "del ",
     "library": "var_list.py",
     "varRefreshCmd": "print(var_dic_list())"
    },
    "r": {
     "delete_cmd_postfix": ") ",
     "delete_cmd_prefix": "rm(",
     "library": "var_list.r",
     "varRefreshCmd": "cat(var_dic_list()) "
    }
   },
   "types_to_exclude": [
    "module",
    "function",
    "builtin_function_or_method",
    "instance",
    "_Feature"
   ],
   "window_display": false
  }
 },
 "nbformat": 4,
 "nbformat_minor": 4
}
